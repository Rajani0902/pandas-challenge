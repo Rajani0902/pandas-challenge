{
 "cells": [
  {
   "cell_type": "markdown",
   "metadata": {},
   "source": [
    "# PyCity Schools Analysis\n",
    "\n",
    "* Your analysis here\n",
    "---"
   ]
  },
  {
   "cell_type": "code",
   "execution_count": 1,
   "metadata": {},
   "outputs": [
    {
     "data": {
      "text/html": [
       "<div>\n",
       "<style scoped>\n",
       "    .dataframe tbody tr th:only-of-type {\n",
       "        vertical-align: middle;\n",
       "    }\n",
       "\n",
       "    .dataframe tbody tr th {\n",
       "        vertical-align: top;\n",
       "    }\n",
       "\n",
       "    .dataframe thead th {\n",
       "        text-align: right;\n",
       "    }\n",
       "</style>\n",
       "<table border=\"1\" class=\"dataframe\">\n",
       "  <thead>\n",
       "    <tr style=\"text-align: right;\">\n",
       "      <th></th>\n",
       "      <th>Student ID</th>\n",
       "      <th>student_name</th>\n",
       "      <th>gender</th>\n",
       "      <th>year</th>\n",
       "      <th>school_name</th>\n",
       "      <th>reading_score</th>\n",
       "      <th>maths_score</th>\n",
       "      <th>School ID</th>\n",
       "      <th>type</th>\n",
       "      <th>size</th>\n",
       "      <th>budget</th>\n",
       "    </tr>\n",
       "  </thead>\n",
       "  <tbody>\n",
       "    <tr>\n",
       "      <th>0</th>\n",
       "      <td>0</td>\n",
       "      <td>Paul Bradley</td>\n",
       "      <td>M</td>\n",
       "      <td>9</td>\n",
       "      <td>Huang High School</td>\n",
       "      <td>96</td>\n",
       "      <td>94</td>\n",
       "      <td>0</td>\n",
       "      <td>Government</td>\n",
       "      <td>2917</td>\n",
       "      <td>1910635</td>\n",
       "    </tr>\n",
       "    <tr>\n",
       "      <th>1</th>\n",
       "      <td>1</td>\n",
       "      <td>Victor Smith</td>\n",
       "      <td>M</td>\n",
       "      <td>12</td>\n",
       "      <td>Huang High School</td>\n",
       "      <td>90</td>\n",
       "      <td>43</td>\n",
       "      <td>0</td>\n",
       "      <td>Government</td>\n",
       "      <td>2917</td>\n",
       "      <td>1910635</td>\n",
       "    </tr>\n",
       "    <tr>\n",
       "      <th>2</th>\n",
       "      <td>2</td>\n",
       "      <td>Kevin Rodriguez</td>\n",
       "      <td>M</td>\n",
       "      <td>12</td>\n",
       "      <td>Huang High School</td>\n",
       "      <td>41</td>\n",
       "      <td>76</td>\n",
       "      <td>0</td>\n",
       "      <td>Government</td>\n",
       "      <td>2917</td>\n",
       "      <td>1910635</td>\n",
       "    </tr>\n",
       "    <tr>\n",
       "      <th>3</th>\n",
       "      <td>3</td>\n",
       "      <td>Richard Scott</td>\n",
       "      <td>M</td>\n",
       "      <td>12</td>\n",
       "      <td>Huang High School</td>\n",
       "      <td>89</td>\n",
       "      <td>86</td>\n",
       "      <td>0</td>\n",
       "      <td>Government</td>\n",
       "      <td>2917</td>\n",
       "      <td>1910635</td>\n",
       "    </tr>\n",
       "    <tr>\n",
       "      <th>4</th>\n",
       "      <td>4</td>\n",
       "      <td>Bonnie Ray</td>\n",
       "      <td>F</td>\n",
       "      <td>9</td>\n",
       "      <td>Huang High School</td>\n",
       "      <td>87</td>\n",
       "      <td>69</td>\n",
       "      <td>0</td>\n",
       "      <td>Government</td>\n",
       "      <td>2917</td>\n",
       "      <td>1910635</td>\n",
       "    </tr>\n",
       "  </tbody>\n",
       "</table>\n",
       "</div>"
      ],
      "text/plain": [
       "   Student ID     student_name gender  year        school_name  reading_score  \\\n",
       "0           0     Paul Bradley      M     9  Huang High School             96   \n",
       "1           1     Victor Smith      M    12  Huang High School             90   \n",
       "2           2  Kevin Rodriguez      M    12  Huang High School             41   \n",
       "3           3    Richard Scott      M    12  Huang High School             89   \n",
       "4           4       Bonnie Ray      F     9  Huang High School             87   \n",
       "\n",
       "   maths_score  School ID        type  size   budget  \n",
       "0           94          0  Government  2917  1910635  \n",
       "1           43          0  Government  2917  1910635  \n",
       "2           76          0  Government  2917  1910635  \n",
       "3           86          0  Government  2917  1910635  \n",
       "4           69          0  Government  2917  1910635  "
      ]
     },
     "execution_count": 1,
     "metadata": {},
     "output_type": "execute_result"
    }
   ],
   "source": [
    "# Dependencies and Setup\n",
    "import pandas as pd\n",
    "from pathlib import Path\n",
    "\n",
    "# File to Load \n",
    "school_data = Path(\"Resources/schools_complete.csv\")\n",
    "student_data = Path(\"Resources/students_complete.csv\")\n",
    "\n",
    "# Read School and Student Data File and store into Pandas DataFrames\n",
    "school_data_df = pd.read_csv(school_data)\n",
    "student_data_df = pd.read_csv(student_data)\n",
    "\n",
    "# Combine the data into a single dataset.\n",
    "school_data_complete_df = pd.merge(student_data_df, school_data_df, how=\"left\", on=\"school_name\")\n",
    "school_data_complete_df.head()"
   ]
  },
  {
   "cell_type": "markdown",
   "metadata": {},
   "source": [
    "## Local Government Area Summary"
   ]
  },
  {
   "cell_type": "code",
   "execution_count": 2,
   "metadata": {},
   "outputs": [
    {
     "data": {
      "text/plain": [
       "15"
      ]
     },
     "execution_count": 2,
     "metadata": {},
     "output_type": "execute_result"
    }
   ],
   "source": [
    "# Calculate the Totals Schools\n",
    "school_count = len(school_data_complete_df[\"school_name\"].unique())\n",
    "school_count\n"
   ]
  },
  {
   "cell_type": "code",
   "execution_count": 3,
   "metadata": {},
   "outputs": [
    {
     "data": {
      "text/plain": [
       "39170"
      ]
     },
     "execution_count": 3,
     "metadata": {},
     "output_type": "execute_result"
    }
   ],
   "source": [
    "# Calculate the Total Students\n",
    "student_count = school_data_complete_df[\"Student ID\"].count()\n",
    "student_count\n",
    "\n",
    "\n"
   ]
  },
  {
   "cell_type": "code",
   "execution_count": 4,
   "metadata": {},
   "outputs": [
    {
     "data": {
      "text/plain": [
       "24649428"
      ]
     },
     "execution_count": 4,
     "metadata": {},
     "output_type": "execute_result"
    }
   ],
   "source": [
    "# Calculate the Total Budget\n",
    "Total_budget = school_data_df[\"budget\"].sum()\n",
    "Total_budget"
   ]
  },
  {
   "cell_type": "code",
   "execution_count": 5,
   "metadata": {},
   "outputs": [
    {
     "data": {
      "text/plain": [
       "70.33819249425581"
      ]
     },
     "execution_count": 5,
     "metadata": {},
     "output_type": "execute_result"
    }
   ],
   "source": [
    "# Calculate the Average Scores\n",
    "average_maths_score = school_data_complete_df[\"maths_score\"].mean()\n",
    "average_maths_score\n"
   ]
  },
  {
   "cell_type": "code",
   "execution_count": 6,
   "metadata": {},
   "outputs": [
    {
     "data": {
      "text/plain": [
       "69.98013786060761"
      ]
     },
     "execution_count": 6,
     "metadata": {},
     "output_type": "execute_result"
    }
   ],
   "source": [
    "#Calculate the Average Reading score\n",
    "average_reading_score = school_data_complete_df[\"reading_score\"].mean()\n",
    "average_reading_score"
   ]
  },
  {
   "cell_type": "code",
   "execution_count": 7,
   "metadata": {},
   "outputs": [
    {
     "data": {
      "text/plain": [
       "86.07863160582077"
      ]
     },
     "execution_count": 7,
     "metadata": {},
     "output_type": "execute_result"
    }
   ],
   "source": [
    "# Calculate the Percentage Pass Rates\n",
    "passing_maths_count = school_data_complete_df[(school_data_complete_df[\"maths_score\"] >= 50)].count()[\"student_name\"]\n",
    "passing_maths_percentage = passing_maths_count / float(student_count) * 100\n",
    "passing_maths_percentage\n"
   ]
  },
  {
   "cell_type": "code",
   "execution_count": 8,
   "metadata": {},
   "outputs": [
    {
     "data": {
      "text/plain": [
       "84.42685728874139"
      ]
     },
     "execution_count": 8,
     "metadata": {},
     "output_type": "execute_result"
    }
   ],
   "source": [
    "passing_reading_count = school_data_complete_df[(school_data_complete_df[\"reading_score\"] >= 50)].count()[\"student_name\"]\n",
    "passing_reading_percentage = passing_reading_count / float(student_count) * 100\n",
    "passing_reading_percentage\n"
   ]
  },
  {
   "cell_type": "code",
   "execution_count": 9,
   "metadata": {},
   "outputs": [
    {
     "data": {
      "text/plain": [
       "72.80827163645647"
      ]
     },
     "execution_count": 9,
     "metadata": {},
     "output_type": "execute_result"
    }
   ],
   "source": [
    "passing_maths_reading_count = school_data_complete_df[\n",
    "    (school_data_complete_df[\"reading_score\"] >= 50) & (school_data_complete_df[\"maths_score\"] >=50)].count()[\"student_name\"]\n",
    "overall_passing_rate = passing_maths_reading_count / float(student_count) * 100\n",
    "overall_passing_rate\n"
   ]
  },
  {
   "cell_type": "code",
   "execution_count": null,
   "metadata": {},
   "outputs": [],
   "source": [
    "# Convert to DataFrame\n",
    "area_summary =pd.DataFrame({\"Total Schools\": [school_count], \n",
    "                                 \"Total Students\": [student_count], \n",
    "                                 \"Total Budget\": [Total_budget],\n",
    "                                 \"Average Maths Score\": [average_maths_score], \n",
    "                                 \"Average Reading Score\": [average_reading_score],\n",
    "                                 \"% Passing Maths\": [passing_maths_percentage],\n",
    "                                 \"% Passing Reading\": [passing_reading_percentage],\n",
    "                                 \"% Overall Passing\": [overall_passing_rate]})\n",
    "\n",
    "# Formatting\n",
    "area_summary[\"Total Students\"] = area_summary[\"Total Students\"].map(\"{:,}\".format)\n",
    "area_summary[\"Total Budget\"] = area_summary[\"Total Budget\"].map(\"${:,.2f}\".format)\n",
    "\n",
    "# Display the DataFrame\n",
    "area_summary\n"
   ]
  },
  {
   "cell_type": "markdown",
   "metadata": {},
   "source": [
    "## School Summary"
   ]
  },
  {
   "cell_type": "code",
   "execution_count": null,
   "metadata": {},
   "outputs": [],
   "source": [
    "# Use the code provided to select the type per school from school_data\n",
    "school_types = school_data_df.set_index([\"school_name\"])[\"type\"]\n",
    "school_types\n"
   ]
  },
  {
   "cell_type": "code",
   "execution_count": null,
   "metadata": {},
   "outputs": [],
   "source": [
    "# Calculate the total student count per school from school_data\n",
    "per_school_counts = school_data_complete_df[\"school_name\"].value_counts()\n",
    "per_school_counts\n"
   ]
  },
  {
   "cell_type": "code",
   "execution_count": null,
   "metadata": {},
   "outputs": [],
   "source": [
    "# Calculate the total school budget and per capita spending per school from school_data\n",
    "per_school_budget = school_data_complete_df.groupby([\"school_name\"])[\"budget\"].mean()\n",
    "per_school_budget\n",
    "per_school_capita = per_school_budget / per_school_counts\n",
    "per_school_capita\n"
   ]
  },
  {
   "cell_type": "code",
   "execution_count": null,
   "metadata": {},
   "outputs": [],
   "source": [
    "# Calculate the average test scores per school from school_data_complete\n",
    "per_school_maths = school_data_complete_df.groupby([\"school_name\"])[\"maths_score\"].mean()\n",
    "per_school_reading = school_data_complete_df.groupby([\"school_name\"])[\"reading_score\"].mean()"
   ]
  },
  {
   "cell_type": "code",
   "execution_count": null,
   "metadata": {},
   "outputs": [],
   "source": [
    "# Get the students who passed maths and passed reading by creating separate filtered DataFrames from school_data_complete.\n",
    "school_passing_maths = school_data_complete_df[(school_data_complete_df[\"maths_score\"] >= 50)]\n",
    "school_passing_reading = school_data_complete_df[(school_data_complete_df[\"reading_score\"] >= 50)]\n",
    "\n",
    "# Get the students who passed both reading and maths in a separate DataFrame from school_data_complete.\n",
    "passing_maths_and_reading = school_data_complete_df[\n",
    "    (school_data_complete_df[\"reading_score\"] >= 50) & (school_data_complete_df[\"maths_score\"] >= 50)]\n"
   ]
  },
  {
   "cell_type": "code",
   "execution_count": null,
   "metadata": {},
   "outputs": [],
   "source": [
    "#  Calculate the Percentage Pass Rates\n",
    "per_school_passing_maths = school_passing_maths.groupby([\"school_name\"]).count()[\"student_name\"] / per_school_counts * 100\n",
    "per_school_passing_reading = school_passing_reading.groupby([\"school_name\"]).count()[\"student_name\"] / per_school_counts * 100\n",
    "overall_passing_rate = passing_maths_and_reading.groupby([\"school_name\"]).count()[\"student_name\"] / per_school_counts * 100\n"
   ]
  },
  {
   "cell_type": "code",
   "execution_count": null,
   "metadata": {},
   "outputs": [],
   "source": [
    "# Convert to DataFrame\n",
    "per_school_summary = pd.DataFrame({\"School Type\": school_types,\n",
    "                                   \"Total Students\": per_school_counts,\n",
    "                                   \"Total School Budget\": per_school_budget,\n",
    "                                   \"Per Student Budget\": per_school_capita,\n",
    "                                   \"Average Math Score\": per_school_maths,\n",
    "                                   \"Average Reading Score\": per_school_reading,\n",
    "                                   \"% Passing Math\": per_school_passing_maths,\n",
    "                                   \"% Passing Reading\": per_school_passing_reading,\n",
    "                                   \"% Overall Passing\": overall_passing_rate})\n",
    "\n",
    "# Formatting\n",
    "per_school_summary[\"Total School Budget\"] = per_school_summary[\"Total School Budget\"].map(\"${:,.2f}\".format)\n",
    "per_school_summary[\"Per Student Budget\"] = per_school_summary[\"Per Student Budget\"].map(\"${:,.2f}\".format)\n",
    "\n",
    "# Display the DataFrame\n",
    "per_school_summary\n"
   ]
  },
  {
   "cell_type": "markdown",
   "metadata": {},
   "source": [
    "## Top Performing Schools (By % Overall Passing)"
   ]
  },
  {
   "cell_type": "code",
   "execution_count": null,
   "metadata": {
    "scrolled": true
   },
   "outputs": [],
   "source": [
    "# Sort and show top five schools\n",
    "top_schools = per_school_summary.sort_values([\"% Overall Passing\"], ascending=False)\n",
    "top_schools.head(5)\n"
   ]
  },
  {
   "cell_type": "markdown",
   "metadata": {},
   "source": [
    "## Bottom Performing Schools (By % Overall Passing)"
   ]
  },
  {
   "cell_type": "code",
   "execution_count": null,
   "metadata": {},
   "outputs": [],
   "source": [
    "# Sort and show bottom five schools\n",
    "bottom_schools = per_school_summary.sort_values([\"% Overall Passing\"], ascending=True)\n",
    "bottom_schools.head(5)\n"
   ]
  },
  {
   "cell_type": "markdown",
   "metadata": {
    "collapsed": true,
    "jupyter": {
     "outputs_hidden": true
    }
   },
   "source": [
    "## Maths Scores by Year"
   ]
  },
  {
   "cell_type": "code",
   "execution_count": null,
   "metadata": {},
   "outputs": [],
   "source": [
    "# Create data series of scores by year levels using conditionals\n",
    "year_nine = school_data_complete_df[(school_data_complete_df[\"year\"] == 9)]\n",
    "year_ten = school_data_complete_df[(school_data_complete_df[\"year\"] == 10)]\n",
    "year_eleven = school_data_complete_df[(school_data_complete_df[\"year\"] == 11)]\n",
    "year_twelve = school_data_complete_df[(school_data_complete_df[\"year\"] == 12)]\n",
    "\n",
    "# Group each by school name\n",
    "year_nine_scores = year_nine.groupby(\"school_name\")[\"maths_score\"].mean()\n",
    "year_ten_scores = year_ten.groupby(\"school_name\")[\"maths_score\"].mean()\n",
    "year_eleven_scores = year_eleven.groupby(\"school_name\")[\"maths_score\"].mean()\n",
    "year_twelve_scores = year_twelve.groupby(\"school_name\")[\"maths_score\"].mean()\n",
    "\n",
    "# Combine series into single DataFrame\n",
    "maths_scores_by_year = pd.DataFrame ({\"9\": year_nine_scores,\n",
    "                                      \"10\": year_ten_scores,\n",
    "                                      \"11\": year_eleven_scores,\n",
    "                                      \"12\": year_twelve_scores})\n",
    "\n",
    "\n",
    "# Minor data wrangling\n",
    "maths_scores_by_year.index.name = None\n",
    "\n",
    "# Display the DataFrame\n",
    "maths_scores_by_year\n"
   ]
  },
  {
   "cell_type": "markdown",
   "metadata": {},
   "source": [
    "## Reading Score by Year"
   ]
  },
  {
   "cell_type": "code",
   "execution_count": null,
   "metadata": {},
   "outputs": [],
   "source": [
    "# Create data series of scores by year levels using conditionals\n",
    "year_nine = school_data_complete_df[(school_data_complete_df[\"year\"] == 9)]\n",
    "year_ten = school_data_complete_df[(school_data_complete_df[\"year\"] == 10)]\n",
    "year_eleven = school_data_complete_df[(school_data_complete_df[\"year\"] == 11)]\n",
    "year_twelve = school_data_complete_df[(school_data_complete_df[\"year\"] == 12)]\n",
    "\n",
    "# Group each by school name\n",
    "year_nine_scores = year_nine.groupby(\"school_name\")[\"reading_score\"].mean()\n",
    "year_ten_scores = year_ten.groupby(\"school_name\")[\"reading_score\"].mean()\n",
    "year_eleven_scores = year_eleven.groupby(\"school_name\")[\"reading_score\"].mean()\n",
    "year_twelve_scores = year_twelve.groupby(\"school_name\")[\"reading_score\"].mean()\n",
    "# Combine series into single DataFrame\n",
    "reading_scores_by_year = pd.DataFrame ({\"9\": year_nine_scores,\n",
    "                                      \"10\": year_ten_scores,\n",
    "                                      \"11\": year_eleven_scores,\n",
    "                                      \"12\": year_twelve_scores})\n",
    "\n",
    "\n",
    "# Minor data wrangling\n",
    "reading_scores_by_year.index.name = None\n",
    "\n",
    "# Display the DataFrame\n",
    "reading_scores_by_year\n"
   ]
  },
  {
   "cell_type": "markdown",
   "metadata": {},
   "source": [
    "## Scores by School Spending"
   ]
  },
  {
   "cell_type": "code",
   "execution_count": null,
   "metadata": {},
   "outputs": [],
   "source": [
    "# Establish the bins\n",
    "spending_bins = [0, 585, 630, 645, 680]\n",
    "group_names = [\"<$585\", \"$585-630\", \"$630-645\", \"$645-680\"]\n"
   ]
  },
  {
   "cell_type": "code",
   "execution_count": null,
   "metadata": {},
   "outputs": [],
   "source": [
    "# Create a copy of the school summary for later aggregations\n",
    "# This step can be skipped but it's best to make a copy.\n",
    "school_spending_df = per_school_summary.copy()\n"
   ]
  },
  {
   "cell_type": "code",
   "execution_count": null,
   "metadata": {},
   "outputs": [],
   "source": [
    "# Use `pd.cut` on the per_school_capita Series from earlier to categorise per student spending based on the bins.\n",
    "school_spending_df[\"Spending Ranges (Per Student)\"] = pd.cut(per_school_capita, spending_bins, labels=group_names)\n",
    "\n",
    "# Convert Spending Ranges (Per Student) to a string\n",
    "school_spending_df[\"Spending Ranges (Per Student)\"] = school_spending_df[\"Spending Ranges (Per Student)\"].astype(str)\n",
    "school_spending_df\n"
   ]
  },
  {
   "cell_type": "code",
   "execution_count": null,
   "metadata": {},
   "outputs": [],
   "source": [
    "#  Calculate averages for the desired columns.\n",
    "spending_math_scores = school_spending_df.groupby([\"Spending Ranges (Per Student)\"])[\"Average Math Score\"].mean()\n",
    "spending_reading_scores = school_spending_df.groupby([\"Spending Ranges (Per Student)\"])[\"Average Reading Score\"].mean()\n",
    "spending_passing_math = school_spending_df.groupby([\"Spending Ranges (Per Student)\"])[\"% Passing Math\"].mean()\n",
    "spending_passing_reading = school_spending_df.groupby([\"Spending Ranges (Per Student)\"])[\"% Passing Reading\"].mean()\n",
    "overall_passing_spending = school_spending_df.groupby([\"Spending Ranges (Per Student)\"])[\"% Overall Passing\"].mean()"
   ]
  },
  {
   "cell_type": "code",
   "execution_count": null,
   "metadata": {},
   "outputs": [],
   "source": [
    "# Assemble into DataFrame\n",
    "spending_summary = pd.DataFrame({\"Average Maths Score\": spending_math_scores,\n",
    "                                        \"Average Reading Score\": spending_reading_scores,\n",
    "                                        \"% Passing Math\": spending_passing_math,\n",
    "                                        \"% Passing Reading\": spending_passing_reading,\n",
    "                                        \"% Overall Passing\": overall_passing_spending})\n",
    "\n",
    "# Display results\n",
    "spending_summary\n"
   ]
  },
  {
   "cell_type": "markdown",
   "metadata": {},
   "source": [
    "## Scores by School Size"
   ]
  },
  {
   "cell_type": "code",
   "execution_count": null,
   "metadata": {},
   "outputs": [],
   "source": [
    "# Establish the bins.\n",
    "size_bins = [0, 1000, 2000, 5000]\n",
    "group_names = [\"Small (<1000)\", \"Medium (1000-2000)\", \"Large (2000-5000)\"]\n"
   ]
  },
  {
   "cell_type": "code",
   "execution_count": null,
   "metadata": {},
   "outputs": [],
   "source": [
    "# Create a copy of the school summary for later aggregations\n",
    "# This step can be skipped but it's best to make a copy.\n",
    "school_size_df = per_school_summary.copy()\n"
   ]
  },
  {
   "cell_type": "code",
   "execution_count": null,
   "metadata": {},
   "outputs": [],
   "source": [
    "# Use `pd.cut` on the per_school_counts Series from earlier to categorise school size based on the bins.\n",
    "school_size_df[\"School Size\"] = pd.cut(per_school_counts, size_bins, labels=group_names)\n",
    "\n",
    "# Convert School Size to a string\n",
    "school_size_df[\"School Size\"] = school_size_df[\"School Size\"].astype(str)\n",
    "school_size_df"
   ]
  },
  {
   "cell_type": "code",
   "execution_count": null,
   "metadata": {},
   "outputs": [],
   "source": [
    "# Calculate averages for the desired columns.\n",
    "size_math_scores = school_size_df.groupby([\"School Size\"])[\"Average Math Score\"].mean()\n",
    "size_reading_scores = school_size_df.groupby([\"School Size\"])[\"Average Reading Score\"].mean()\n",
    "size_passing_math = school_size_df.groupby([\"School Size\"])[\"% Passing Math\"].mean()\n",
    "size_passing_reading = school_size_df.groupby([\"School Size\"])[\"% Passing Reading\"].mean()\n",
    "size_overall_passing = school_size_df.groupby([\"School Size\"])[\"% Overall Passing\"].mean()"
   ]
  },
  {
   "cell_type": "code",
   "execution_count": null,
   "metadata": {
    "scrolled": true
   },
   "outputs": [],
   "source": [
    "# Assemble into DataFrame\n",
    "size_summary = pd.DataFrame({\"Average Math Score\": size_math_scores,\n",
    "                                        \"Average Reading Score\": size_reading_scores,\n",
    "                                        \"% Passing Math\": size_passing_math,\n",
    "                                        \"% Passing Reading\": size_passing_reading,\n",
    "                                        \"% Overall Passing\": size_overall_passing})\n",
    "\n",
    "# Display results\n",
    "size_summary\n"
   ]
  },
  {
   "cell_type": "markdown",
   "metadata": {},
   "source": [
    "## Scores by School Type"
   ]
  },
  {
   "cell_type": "code",
   "execution_count": null,
   "metadata": {},
   "outputs": [],
   "source": [
    "# Create new series using groupby for:\n",
    "# Type | Average Maths Score | Average Reading Score | % Passing Maths | % Passing Reading | % Overall Passing\n",
    "\n",
    "average_math_score_by_type = school_size_df.groupby([\"School Type\"])[\"Average Math Score\"].mean()\n",
    "average_reading_score_by_type = school_size_df.groupby([\"School Type\"])[\"Average Reading Score\"].mean()\n",
    "average_percent_passing_math_by_type = school_size_df.groupby([\"School Type\"])[\"% Passing Math\"].mean()\n",
    "average_percent_passing_reading_by_type = school_size_df.groupby([\"School Type\"])[\"% Passing Reading\"].mean()\n",
    "average_percent_overall_passing_by_type = school_size_df.groupby([\"School Type\"])[\"% Overall Passing\"].mean()\n"
   ]
  },
  {
   "cell_type": "code",
   "execution_count": null,
   "metadata": {},
   "outputs": [],
   "source": [
    "# Assemble into DataFrame\n",
    "type_summary = pd.DataFrame({\"Average Math Score\" : average_math_score_by_type,\n",
    "                                        \"Average Reading Score\" : average_reading_score_by_type,\n",
    "                                        \"% Passing Math\" : average_percent_passing_math_by_type,\n",
    "                                        \"% Passing Reading\" : average_percent_passing_reading_by_type,\n",
    "                                        \"% Overall Passing\" : average_percent_overall_passing_by_type})\n",
    "\n",
    "# Display results\n",
    "type_summary\n"
   ]
  },
  {
   "cell_type": "code",
   "execution_count": null,
   "metadata": {},
   "outputs": [],
   "source": []
  }
 ],
 "metadata": {
  "anaconda-cloud": {},
  "kernel_info": {
   "name": "python3"
  },
  "kernelspec": {
   "display_name": "Python 3 (ipykernel)",
   "language": "python",
   "name": "python3"
  },
  "language_info": {
   "codemirror_mode": {
    "name": "ipython",
    "version": 3
   },
   "file_extension": ".py",
   "mimetype": "text/x-python",
   "name": "python",
   "nbconvert_exporter": "python",
   "pygments_lexer": "ipython3",
   "version": "3.12.4"
  },
  "latex_envs": {
   "LaTeX_envs_menu_present": true,
   "autoclose": false,
   "autocomplete": true,
   "bibliofile": "biblio.bib",
   "cite_by": "apalike",
   "current_citInitial": 1,
   "eqLabelWithNumbers": true,
   "eqNumInitial": 1,
   "hotkeys": {
    "equation": "Ctrl-E",
    "itemize": "Ctrl-I"
   },
   "labels_anchors": false,
   "latex_user_defs": false,
   "report_style_numbering": false,
   "user_envs_cfg": false
  },
  "nteract": {
   "version": "0.8.4"
  }
 },
 "nbformat": 4,
 "nbformat_minor": 4
}
