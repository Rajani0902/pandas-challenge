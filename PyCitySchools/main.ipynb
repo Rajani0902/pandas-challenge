{
 "cells": [
  {
   "cell_type": "code",
   "execution_count": null,
   "id": "ac6e9c16-e98a-4484-9bd7-41c996f341e1",
   "metadata": {},
   "outputs": [],
   "source": [
    "import pandas as pd\n",
    "from pathlib import Path\n"
   ]
  },
  {
   "cell_type": "code",
   "execution_count": null,
   "id": "70a83deb-1f27-4bc6-8d81-ea66d227224c",
   "metadata": {
    "scrolled": true
   },
   "outputs": [],
   "source": [
    "# File to Load (Remember to Change These)\n",
    "school_data.df = Path(\"Resources/schools_complete.csv\")\n",
    "student_data.df = Path(\"Resources/students_complete.csv\")\n",
    "\n",
    "# Read School and Student Data File and store into Pandas DataFrames\n",
    "school_data = pd.read_csv(school_data_to_load)\n",
    "student_data = pd.read_csv(student_data_to_load)\n",
    "\n",
    "# Combine the data into a single dataset.\n",
    "school_data_complete = pd.merge(student_data, school_data, how=\"left\", on=\"school_name\")\n",
    "\n"
   ]
  },
  {
   "cell_type": "code",
   "execution_count": null,
   "id": "5e9f368f-956e-4ef6-8357-7b073fa074f7",
   "metadata": {},
   "outputs": [],
   "source": [
    "# Calculate the Average Scores\n",
    "average_maths_score =\n",
    "average_reading_score ="
   ]
  },
  {
   "cell_type": "code",
   "execution_count": null,
   "id": "52c6500e-ff91-4ae3-b16f-06632d039fff",
   "metadata": {},
   "outputs": [],
   "source": [
    "# Calculate the Percentage Pass Rates\n",
    "passing_maths_count = school_data_complete[(school_data_complete[\"maths_score\"] >= 50)].count()[\"student_name\"]\n",
    "passing_maths_percentage = passing_maths_count / float(student_count) * 100\n",
    "passing_reading_count =\n",
    "passing_reading_percentage =\n",
    "\n",
    "passing_maths_reading_count =\n",
    "\n",
    "overall_passing_rate =\n"
   ]
  }
 ],
 "metadata": {
  "kernelspec": {
   "display_name": "Python 3 (ipykernel)",
   "language": "python",
   "name": "python3"
  },
  "language_info": {
   "codemirror_mode": {
    "name": "ipython",
    "version": 3
   },
   "file_extension": ".py",
   "mimetype": "text/x-python",
   "name": "python",
   "nbconvert_exporter": "python",
   "pygments_lexer": "ipython3",
   "version": "3.10.14"
  }
 },
 "nbformat": 4,
 "nbformat_minor": 5
}
